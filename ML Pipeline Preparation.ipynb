{
 "cells": [
  {
   "cell_type": "markdown",
   "metadata": {},
   "source": [
    "# ML Pipeline Preparation\n",
    "Follow the instructions below to help you create your ML pipeline.\n",
    "### 1. Import libraries and load data from database.\n",
    "- Import Python libraries\n",
    "- Load dataset from database with [`read_sql_table`](https://pandas.pydata.org/pandas-docs/stable/generated/pandas.read_sql_table.html)\n",
    "- Define feature and target variables X and Y"
   ]
  },
  {
   "cell_type": "code",
   "execution_count": 1,
   "metadata": {},
   "outputs": [
    {
     "name": "stdout",
     "output_type": "stream",
     "text": [
      "Requirement already satisfied: scikit-learn in c:\\users\\josep\\github\\datascientistnanodegree\\disaster-response-pipelines\\etl_env\\lib\\site-packages (1.0.1)\n",
      "Requirement already satisfied: threadpoolctl>=2.0.0 in c:\\users\\josep\\github\\datascientistnanodegree\\disaster-response-pipelines\\etl_env\\lib\\site-packages (from scikit-learn) (3.0.0)\n",
      "Requirement already satisfied: joblib>=0.11 in c:\\users\\josep\\github\\datascientistnanodegree\\disaster-response-pipelines\\etl_env\\lib\\site-packages (from scikit-learn) (1.1.0)\n",
      "Requirement already satisfied: numpy>=1.14.6 in c:\\users\\josep\\github\\datascientistnanodegree\\disaster-response-pipelines\\etl_env\\lib\\site-packages (from scikit-learn) (1.21.4)\n",
      "Requirement already satisfied: scipy>=1.1.0 in c:\\users\\josep\\github\\datascientistnanodegree\\disaster-response-pipelines\\etl_env\\lib\\site-packages (from scikit-learn) (1.7.3)\n"
     ]
    }
   ],
   "source": [
    "!python -m pip install scikit-learn --upgrade\n",
    "# !python -m pip install nltk"
   ]
  },
  {
   "cell_type": "code",
   "execution_count": 47,
   "metadata": {},
   "outputs": [
    {
     "name": "stderr",
     "output_type": "stream",
     "text": [
      "[nltk_data] Downloading package punkt to\n",
      "[nltk_data]     C:\\Users\\josep\\AppData\\Roaming\\nltk_data...\n",
      "[nltk_data]   Package punkt is already up-to-date!\n",
      "[nltk_data] Downloading package stopwords to\n",
      "[nltk_data]     C:\\Users\\josep\\AppData\\Roaming\\nltk_data...\n",
      "[nltk_data]   Package stopwords is already up-to-date!\n",
      "[nltk_data] Downloading package wordnet to\n",
      "[nltk_data]     C:\\Users\\josep\\AppData\\Roaming\\nltk_data...\n",
      "[nltk_data]   Package wordnet is already up-to-date!\n"
     ]
    }
   ],
   "source": [
    "# import libraries\n",
    "import pandas as pd\n",
    "from sqlalchemy import create_engine\n",
    "from nltk.tokenize import word_tokenize\n",
    "import re\n",
    "import nltk\n",
    "nltk.download('punkt')\n",
    "from nltk.corpus import stopwords\n",
    "nltk.download('stopwords')\n",
    "from nltk.stem.wordnet import WordNetLemmatizer\n",
    "nltk.download('wordnet')\n",
    "from nltk.stem.porter import PorterStemmer\n",
    "import numpy as np\n",
    "from sklearn.model_selection import train_test_split\n",
    "from sklearn.feature_extraction.text import CountVectorizer, TfidfTransformer\n",
    "from sklearn.pipeline import Pipeline, FeatureUnion\n",
    "from sklearn.multioutput import MultiOutputClassifier\n",
    "from sklearn.ensemble import RandomForestClassifier\n",
    "from sklearn.metrics import classification_report, precision_recall_fscore_support, make_scorer, precision_score, recall_score, f1_score\n",
    "from sklearn.preprocessing import OneHotEncoder\n",
    "from sklearn.compose import ColumnTransformer\n",
    "from sklearn.model_selection import GridSearchCV\n",
    "from sklearn.tree import DecisionTreeClassifier\n",
    "from sklearn.base import BaseEstimator, TransformerMixin"
   ]
  },
  {
   "cell_type": "code",
   "execution_count": 45,
   "metadata": {},
   "outputs": [],
   "source": [
    "# load data from database\n",
    "engine = create_engine('sqlite:///data/DisasterResponse.db')\n",
    "df = pd.read_sql_table('DisasterResponse', con=engine)\n",
    "X = df.loc[:, 'message']\n",
    "y = df.iloc[:, 4:]"
   ]
  },
  {
   "cell_type": "markdown",
   "metadata": {},
   "source": [
    "### 2. Write a tokenization function to process your text data"
   ]
  },
  {
   "cell_type": "code",
   "execution_count": 4,
   "metadata": {},
   "outputs": [],
   "source": [
    "def tokenize(text):\n",
    "    \"\"\"\n",
    "    INPUT:\n",
    "    OUTPUT:\n",
    "    \"\"\"\n",
    "    # Normalize text\n",
    "    text = re.sub(r\"[^a-zA-Z0-9]\", \" \", text.lower())\n",
    "    # Split text into words using NLTK\n",
    "    words = word_tokenize(text)\n",
    "    # Remove stop words\n",
    "    words = [w for w in words if w not in stopwords.words(\"english\")]\n",
    "    # Reduce words to their root form\n",
    "    lemmed = [WordNetLemmatizer().lemmatize(w) for w in words]\n",
    "    # Lemmatize verbs by specifying pos\n",
    "    lemmed = [WordNetLemmatizer().lemmatize(w, pos='v').strip() for w in lemmed]\n",
    "    # Reduce words to their stems\n",
    "    stemmed = [PorterStemmer().stem(w) for w in lemmed]\n",
    "    tokenized = stemmed\n",
    "    return tokenized"
   ]
  },
  {
   "cell_type": "markdown",
   "metadata": {},
   "source": [
    "### 3. Build a machine learning pipeline\n",
    "This machine pipeline should take in the `message` column as input and output classification results on the other 36 categories in the dataset. You may find the [MultiOutputClassifier](http://scikit-learn.org/stable/modules/generated/sklearn.multioutput.MultiOutputClassifier.html) helpful for predicting multiple target variables."
   ]
  },
  {
   "cell_type": "code",
   "execution_count": 5,
   "metadata": {},
   "outputs": [],
   "source": [
    "random_forest_pipeline = Pipeline([\n",
    "    ('vect', CountVectorizer(tokenizer=tokenize)),\n",
    "    ('tfidf', TfidfTransformer()),\n",
    "    ('clf', MultiOutputClassifier(RandomForestClassifier()))\n",
    "])"
   ]
  },
  {
   "cell_type": "markdown",
   "metadata": {},
   "source": [
    "### 4. Train pipeline\n",
    "- Split data into train and test sets\n",
    "- Train pipeline"
   ]
  },
  {
   "cell_type": "code",
   "execution_count": 6,
   "metadata": {},
   "outputs": [],
   "source": [
    "X_train, X_test, y_train, y_test = train_test_split(X, y)"
   ]
  },
  {
   "cell_type": "code",
   "execution_count": 7,
   "metadata": {},
   "outputs": [
    {
     "data": {
      "text/plain": [
       "Pipeline(steps=[('vect',\n",
       "                 CountVectorizer(tokenizer=<function tokenize at 0x000001A513FCA790>)),\n",
       "                ('tfidf', TfidfTransformer()),\n",
       "                ('clf',\n",
       "                 MultiOutputClassifier(estimator=RandomForestClassifier()))])"
      ]
     },
     "execution_count": 7,
     "metadata": {},
     "output_type": "execute_result"
    }
   ],
   "source": [
    "random_forest_pipeline.fit(X_train, y_train)"
   ]
  },
  {
   "cell_type": "markdown",
   "metadata": {},
   "source": [
    "### 5. Test your model\n",
    "Report the f1 score, precision and recall for each output category of the dataset. You can do this by iterating through the columns and calling sklearn's `classification_report` on each."
   ]
  },
  {
   "cell_type": "code",
   "execution_count": 8,
   "metadata": {},
   "outputs": [],
   "source": [
    "y_pred = random_forest_pipeline.predict(X_test)"
   ]
  },
  {
   "cell_type": "code",
   "execution_count": 9,
   "metadata": {
    "scrolled": true
   },
   "outputs": [
    {
     "name": "stdout",
     "output_type": "stream",
     "text": [
      "                        precision    recall  f1-score   support\n",
      "\n",
      "               related       0.84      0.95      0.89      4983\n",
      "               request       0.85      0.49      0.62      1123\n",
      "                 offer       0.00      0.00      0.00        33\n",
      "           aid_related       0.75      0.69      0.72      2701\n",
      "          medical_help       0.71      0.07      0.13       539\n",
      "      medical_products       0.69      0.08      0.14       325\n",
      "     search_and_rescue       0.89      0.05      0.09       175\n",
      "              security       0.33      0.01      0.02       111\n",
      "              military       0.31      0.02      0.04       217\n",
      "           child_alone       0.00      0.00      0.00         0\n",
      "                 water       0.87      0.38      0.53       429\n",
      "                  food       0.82      0.65      0.72       708\n",
      "               shelter       0.82      0.36      0.50       580\n",
      "              clothing       0.67      0.11      0.20        87\n",
      "                 money       0.60      0.02      0.04       164\n",
      "        missing_people       0.00      0.00      0.00        64\n",
      "              refugees       1.00      0.03      0.06       224\n",
      "                 death       0.81      0.11      0.20       304\n",
      "             other_aid       0.59      0.04      0.07       864\n",
      "infrastructure_related       0.00      0.00      0.00       403\n",
      "             transport       0.72      0.07      0.13       316\n",
      "             buildings       0.77      0.12      0.21       361\n",
      "           electricity       1.00      0.03      0.06       120\n",
      "                 tools       0.00      0.00      0.00        35\n",
      "             hospitals       0.00      0.00      0.00        67\n",
      "                 shops       0.00      0.00      0.00        26\n",
      "           aid_centers       0.00      0.00      0.00        73\n",
      "  other_infrastructure       0.00      0.00      0.00       279\n",
      "       weather_related       0.85      0.71      0.77      1828\n",
      "                floods       0.92      0.51      0.66       551\n",
      "                 storm       0.80      0.52      0.63       611\n",
      "                  fire       1.00      0.02      0.03        62\n",
      "            earthquake       0.88      0.80      0.84       616\n",
      "                  cold       0.75      0.05      0.09       126\n",
      "         other_weather       0.67      0.03      0.06       364\n",
      "         direct_report       0.80      0.35      0.49      1279\n",
      "\n",
      "             micro avg       0.82      0.53      0.65     20748\n",
      "             macro avg       0.58      0.20      0.25     20748\n",
      "          weighted avg       0.76      0.53      0.57     20748\n",
      "           samples avg       0.67      0.48      0.51     20748\n",
      "\n"
     ]
    }
   ],
   "source": [
    "print(classification_report(y_test, y_pred, zero_division=0, target_names=y.columns))"
   ]
  },
  {
   "cell_type": "markdown",
   "metadata": {},
   "source": [
    "### 6. Improve your model\n",
    "Use grid search to find better parameters. "
   ]
  },
  {
   "cell_type": "code",
   "execution_count": 24,
   "metadata": {},
   "outputs": [],
   "source": [
    "# USE THIS PARAMETERS AND GRIDSEARCHCV WHEN COMPUTATIONAL POWER AVAILABLE\n",
    "# parameters = {\n",
    "#     'vect__ngram_range': ((1, 1), (1, 2)),\n",
    "#     'vect__max_df': (0.5, 0.75, 1.0),\n",
    "#     'vect__max_features': (None, 5000, 10000),\n",
    "#     'tfidf__use_idf': (True, False),\n",
    "#     'clf__estimator__n_estimators': [50, 100, 200],\n",
    "#     'clf__estimator__min_samples_split': [2, 3, 4],\n",
    "# }\n",
    "# rf_cv_gs = GridSearchCV(random_forest_pipeline, param_grid=parameters, verbose=3, cv=2, return_train_score=True, \n",
    "#                         refit='f1_macro', scoring = ['accuracy', 'precision', 'recall', 'f1_macro'])\n",
    "\n",
    "parameters = {\n",
    "    'clf__estimator__n_estimators': [4, 5]\n",
    "}\n",
    "\n",
    "scoring = {\"Accuracy\": \"accuracy\", \"Precision\": make_scorer(precision_score, average='macro', zero_division=0), \n",
    "           \"Recall\": make_scorer(recall_score, average='macro', zero_division=0), \n",
    "           \"F1\": make_scorer(f1_score, average='macro', zero_division=0)}\n",
    "\n",
    "rf_cv_gs = GridSearchCV(random_forest_pipeline, param_grid=parameters, verbose=3, cv=2, return_train_score=True, \n",
    "                        refit='F1', scoring = scoring)"
   ]
  },
  {
   "cell_type": "code",
   "execution_count": 25,
   "metadata": {},
   "outputs": [
    {
     "name": "stdout",
     "output_type": "stream",
     "text": [
      "Fitting 2 folds for each of 2 candidates, totalling 4 fits\n",
      "[CV 1/2] END clf__estimator__n_estimators=4; Accuracy: (train=0.627, test=0.219) F1: (train=0.782, test=0.199) Precision: (train=0.967, test=0.497) Recall: (train=0.663, test=0.147) total time= 3.4min\n",
      "[CV 2/2] END clf__estimator__n_estimators=4; Accuracy: (train=0.633, test=0.209) F1: (train=0.779, test=0.197) Precision: (train=0.964, test=0.515) Recall: (train=0.661, test=0.148) total time= 3.5min\n",
      "[CV 1/2] END clf__estimator__n_estimators=5; Accuracy: (train=0.755, test=0.195) F1: (train=0.881, test=0.270) Precision: (train=0.962, test=0.456) Recall: (train=0.816, test=0.217) total time= 3.5min\n",
      "[CV 2/2] END clf__estimator__n_estimators=5; Accuracy: (train=0.744, test=0.189) F1: (train=0.879, test=0.256) Precision: (train=0.961, test=0.467) Recall: (train=0.813, test=0.204) total time= 3.5min\n"
     ]
    },
    {
     "data": {
      "text/plain": [
       "GridSearchCV(cv=2,\n",
       "             estimator=Pipeline(steps=[('vect',\n",
       "                                        CountVectorizer(tokenizer=<function tokenize at 0x000001A513FCA790>)),\n",
       "                                       ('tfidf', TfidfTransformer()),\n",
       "                                       ('clf',\n",
       "                                        MultiOutputClassifier(estimator=RandomForestClassifier()))]),\n",
       "             param_grid={'clf__estimator__n_estimators': [4, 5]}, refit='F1',\n",
       "             return_train_score=True,\n",
       "             scoring={'Accuracy': 'accuracy',\n",
       "                      'F1': make_scorer(f1_score, average=macro, zero_division=0),\n",
       "                      'Precision': make_scorer(precision_score, average=macro, zero_division=0),\n",
       "                      'Recall': make_scorer(recall_score, average=macro, zero_division=0)},\n",
       "             verbose=3)"
      ]
     },
     "execution_count": 25,
     "metadata": {},
     "output_type": "execute_result"
    }
   ],
   "source": [
    "rf_cv_gs.fit(X_train, y_train)"
   ]
  },
  {
   "cell_type": "markdown",
   "metadata": {},
   "source": [
    "### 7. Test your model\n",
    "Show the accuracy, precision, and recall of the tuned model.  \n",
    "\n",
    "Since this project focuses on code quality, process, and  pipelines, there is no minimum performance metric needed to pass. However, make sure to fine tune your models for accuracy, precision and recall to make your project stand out - especially for your portfolio!"
   ]
  },
  {
   "cell_type": "code",
   "execution_count": 26,
   "metadata": {},
   "outputs": [],
   "source": [
    "best_estimator = rf_cv_gs.best_estimator_\n",
    "best_estimator"
   ]
  },
  {
   "cell_type": "code",
   "execution_count": 27,
   "metadata": {},
   "outputs": [],
   "source": [
    "y_pred = best_estimator.predict(X_test)"
   ]
  },
  {
   "cell_type": "code",
   "execution_count": 28,
   "metadata": {
    "scrolled": true
   },
   "outputs": [
    {
     "name": "stdout",
     "output_type": "stream",
     "text": [
      "                        precision    recall  f1-score   support\n",
      "\n",
      "               related       0.84      0.92      0.88      4983\n",
      "               request       0.71      0.51      0.59      1123\n",
      "                 offer       0.00      0.00      0.00        33\n",
      "           aid_related       0.69      0.65      0.67      2701\n",
      "          medical_help       0.54      0.19      0.28       539\n",
      "      medical_products       0.59      0.17      0.26       325\n",
      "     search_and_rescue       0.37      0.06      0.10       175\n",
      "              security       0.33      0.03      0.05       111\n",
      "              military       0.53      0.16      0.24       217\n",
      "           child_alone       0.00      0.00      0.00         0\n",
      "                 water       0.73      0.52      0.60       429\n",
      "                  food       0.77      0.61      0.68       708\n",
      "               shelter       0.73      0.39      0.51       580\n",
      "              clothing       0.65      0.15      0.24        87\n",
      "                 money       0.67      0.07      0.13       164\n",
      "        missing_people       0.00      0.00      0.00        64\n",
      "              refugees       0.37      0.07      0.12       224\n",
      "                 death       0.71      0.20      0.31       304\n",
      "             other_aid       0.38      0.10      0.16       864\n",
      "infrastructure_related       0.15      0.03      0.05       403\n",
      "             transport       0.47      0.10      0.17       316\n",
      "             buildings       0.58      0.15      0.24       361\n",
      "           electricity       0.62      0.07      0.12       120\n",
      "                 tools       0.00      0.00      0.00        35\n",
      "             hospitals       0.12      0.01      0.03        67\n",
      "                 shops       0.00      0.00      0.00        26\n",
      "           aid_centers       0.00      0.00      0.00        73\n",
      "  other_infrastructure       0.28      0.03      0.05       279\n",
      "       weather_related       0.79      0.67      0.72      1828\n",
      "                floods       0.81      0.47      0.59       551\n",
      "                 storm       0.72      0.40      0.51       611\n",
      "                  fire       1.00      0.08      0.15        62\n",
      "            earthquake       0.87      0.76      0.81       616\n",
      "                  cold       0.59      0.18      0.28       126\n",
      "         other_weather       0.43      0.09      0.15       364\n",
      "         direct_report       0.63      0.40      0.49      1279\n",
      "\n",
      "             micro avg       0.75      0.53      0.62     20748\n",
      "             macro avg       0.49      0.23      0.28     20748\n",
      "          weighted avg       0.68      0.53      0.57     20748\n",
      "           samples avg       0.62      0.48      0.49     20748\n",
      "\n"
     ]
    }
   ],
   "source": [
    "print(classification_report(y_test, y_pred, zero_division=0, target_names=y.columns))"
   ]
  },
  {
   "cell_type": "code",
   "execution_count": 44,
   "metadata": {},
   "outputs": [
    {
     "data": {
      "text/html": [
       "<div>\n",
       "<style scoped>\n",
       "    .dataframe tbody tr th:only-of-type {\n",
       "        vertical-align: middle;\n",
       "    }\n",
       "\n",
       "    .dataframe tbody tr th {\n",
       "        vertical-align: top;\n",
       "    }\n",
       "\n",
       "    .dataframe thead th {\n",
       "        text-align: right;\n",
       "    }\n",
       "</style>\n",
       "<table border=\"1\" class=\"dataframe\">\n",
       "  <thead>\n",
       "    <tr style=\"text-align: right;\">\n",
       "      <th></th>\n",
       "      <th>Params</th>\n",
       "      <th>Accuracy</th>\n",
       "      <th>Precision</th>\n",
       "      <th>Recall</th>\n",
       "      <th>F1</th>\n",
       "    </tr>\n",
       "  </thead>\n",
       "  <tbody>\n",
       "    <tr>\n",
       "      <th>0</th>\n",
       "      <td>{'clf__estimator__n_estimators': 4}</td>\n",
       "      <td>0.213872</td>\n",
       "      <td>0.506220</td>\n",
       "      <td>0.147520</td>\n",
       "      <td>0.198138</td>\n",
       "    </tr>\n",
       "    <tr>\n",
       "      <th>1</th>\n",
       "      <td>{'clf__estimator__n_estimators': 5}</td>\n",
       "      <td>0.191947</td>\n",
       "      <td>0.461886</td>\n",
       "      <td>0.210438</td>\n",
       "      <td>0.262890</td>\n",
       "    </tr>\n",
       "  </tbody>\n",
       "</table>\n",
       "</div>"
      ],
      "text/plain": [
       "                                Params  Accuracy  Precision    Recall  \\\n",
       "0  {'clf__estimator__n_estimators': 4}  0.213872   0.506220  0.147520   \n",
       "1  {'clf__estimator__n_estimators': 5}  0.191947   0.461886  0.210438   \n",
       "\n",
       "         F1  \n",
       "0  0.198138  \n",
       "1  0.262890  "
      ]
     },
     "execution_count": 44,
     "metadata": {},
     "output_type": "execute_result"
    }
   ],
   "source": [
    "# printing the evaluation scores\n",
    "rows = []\n",
    "cvres = rf_cv_gs.cv_results_\n",
    "for mean_test_Accuracy, mean_test_Precision, mean_test_Recall, mean_test_F1, params in zip(cvres['params'], \n",
    "                                                                                           cvres['mean_test_Accuracy'], \n",
    "                                                                                           cvres['mean_test_Precision'], \n",
    "                                                                                           cvres['mean_test_Recall'], \n",
    "                                                                                           cvres['mean_test_F1']):\n",
    "    rows.append([mean_test_Accuracy, mean_test_Precision, mean_test_Recall, mean_test_F1, params])\n",
    "scores = pd.DataFrame(rows, columns=[\"Params\", \"Accuracy\", \"Precision\", \"Recall\", \"F1\"])\n",
    "scores"
   ]
  },
  {
   "cell_type": "markdown",
   "metadata": {},
   "source": [
    "### 8. Try improving your model further. Here are a few ideas:\n",
    "* try other machine learning algorithms\n",
    "* add other features besides the TF-IDF"
   ]
  },
  {
   "cell_type": "code",
   "execution_count": 33,
   "metadata": {},
   "outputs": [],
   "source": [
    "decision_tree_pipeline = Pipeline([\n",
    "    ('vect', CountVectorizer(tokenizer=tokenize)),\n",
    "    ('tfidf', TfidfTransformer()),\n",
    "    ('clf', MultiOutputClassifier(DecisionTreeClassifier()))\n",
    "])"
   ]
  },
  {
   "cell_type": "code",
   "execution_count": 34,
   "metadata": {},
   "outputs": [
    {
     "data": {
      "text/plain": [
       "Pipeline(steps=[('vect',\n",
       "                 CountVectorizer(tokenizer=<function tokenize at 0x000001A513FCA790>)),\n",
       "                ('tfidf', TfidfTransformer()),\n",
       "                ('clf',\n",
       "                 MultiOutputClassifier(estimator=DecisionTreeClassifier()))])"
      ]
     },
     "execution_count": 34,
     "metadata": {},
     "output_type": "execute_result"
    }
   ],
   "source": [
    "decision_tree_pipeline.fit(X_train, y_train)"
   ]
  },
  {
   "cell_type": "code",
   "execution_count": 35,
   "metadata": {},
   "outputs": [],
   "source": [
    "y_pred = decision_tree_pipeline.predict(X_test)"
   ]
  },
  {
   "cell_type": "code",
   "execution_count": 36,
   "metadata": {
    "scrolled": true
   },
   "outputs": [
    {
     "name": "stdout",
     "output_type": "stream",
     "text": [
      "                        precision    recall  f1-score   support\n",
      "\n",
      "               related       0.85      0.86      0.86      4983\n",
      "               request       0.58      0.53      0.55      1123\n",
      "                 offer       0.03      0.03      0.03        33\n",
      "           aid_related       0.65      0.65      0.65      2701\n",
      "          medical_help       0.38      0.32      0.35       539\n",
      "      medical_products       0.42      0.37      0.40       325\n",
      "     search_and_rescue       0.23      0.19      0.21       175\n",
      "              security       0.08      0.06      0.07       111\n",
      "              military       0.48      0.34      0.40       217\n",
      "           child_alone       0.00      0.00      0.00         0\n",
      "                 water       0.64      0.66      0.65       429\n",
      "                  food       0.71      0.74      0.72       708\n",
      "               shelter       0.64      0.58      0.61       580\n",
      "              clothing       0.56      0.46      0.51        87\n",
      "                 money       0.39      0.32      0.35       164\n",
      "        missing_people       0.16      0.12      0.14        64\n",
      "              refugees       0.37      0.32      0.34       224\n",
      "                 death       0.56      0.54      0.55       304\n",
      "             other_aid       0.32      0.26      0.29       864\n",
      "infrastructure_related       0.19      0.17      0.18       403\n",
      "             transport       0.32      0.23      0.27       316\n",
      "             buildings       0.46      0.38      0.42       361\n",
      "           electricity       0.39      0.37      0.38       120\n",
      "                 tools       0.04      0.03      0.03        35\n",
      "             hospitals       0.18      0.15      0.16        67\n",
      "                 shops       0.06      0.04      0.05        26\n",
      "           aid_centers       0.14      0.11      0.12        73\n",
      "  other_infrastructure       0.17      0.16      0.17       279\n",
      "       weather_related       0.73      0.76      0.75      1828\n",
      "                floods       0.65      0.61      0.63       551\n",
      "                 storm       0.70      0.64      0.67       611\n",
      "                  fire       0.38      0.45      0.41        62\n",
      "            earthquake       0.80      0.81      0.80       616\n",
      "                  cold       0.47      0.39      0.43       126\n",
      "         other_weather       0.29      0.23      0.26       364\n",
      "         direct_report       0.50      0.47      0.48      1279\n",
      "\n",
      "             micro avg       0.63      0.60      0.62     20748\n",
      "             macro avg       0.40      0.37      0.39     20748\n",
      "          weighted avg       0.62      0.60      0.61     20748\n",
      "           samples avg       0.52      0.50      0.46     20748\n",
      "\n"
     ]
    }
   ],
   "source": [
    "print(classification_report(y_test, y_pred, zero_division=0, target_names=y.columns))"
   ]
  },
  {
   "cell_type": "code",
   "execution_count": 39,
   "metadata": {},
   "outputs": [],
   "source": [
    "class StartingVerbExtractor(BaseEstimator, TransformerMixin):\n",
    "\n",
    "    def starting_verb(self, text):\n",
    "        sentence_list = nltk.sent_tokenize(text)\n",
    "        for sentence in sentence_list:\n",
    "            pos_tags = nltk.pos_tag(tokenize(sentence))\n",
    "            first_word, first_tag = pos_tags[0]\n",
    "            if first_tag in ['VB', 'VBP'] or first_word == 'RT':\n",
    "                return True\n",
    "        return False\n",
    "\n",
    "    def fit(self, X, y=None):\n",
    "        return self\n",
    "\n",
    "    def transform(self, X):\n",
    "        X_tagged = pd.Series(X).apply(self.starting_verb)\n",
    "        return pd.DataFrame(X_tagged)"
   ]
  },
  {
   "cell_type": "code",
   "execution_count": 40,
   "metadata": {},
   "outputs": [],
   "source": [
    "class TextLengthExtractor(BaseEstimator, TransformerMixin):\n",
    "\n",
    "    def textlength(self, text):\n",
    "        text_len = len(text.strip())\n",
    "        return text_len\n",
    "\n",
    "    def fit(self, X, y=None):\n",
    "        return self\n",
    "\n",
    "    def transform(self, X):\n",
    "        X_tagged = pd.Series(X).apply(self.textlength)\n",
    "        return pd.DataFrame(X_tagged)"
   ]
  },
  {
   "cell_type": "code",
   "execution_count": 95,
   "metadata": {},
   "outputs": [],
   "source": [
    "# With Column Transformer\n",
    "X = df.loc[:, ['message', 'genre']]\n",
    "X_train, X_test, y_train, y_test = train_test_split(X, y)\n",
    "message = 'message'\n",
    "genre = 'genre'\n",
    "\n",
    "full_pipeline = Pipeline([\n",
    "        ('features', FeatureUnion([\n",
    "\n",
    "            ('col_xfmr', ColumnTransformer([\n",
    "                ('vect', CountVectorizer(tokenizer=tokenize), message),\n",
    "                ('tfidf', TfidfTransformer(), message),\n",
    "                ('cat', OneHotEncoder(), genre)\n",
    "            ])),\n",
    "\n",
    "            ('starting_verb', StartingVerbExtractor()),\n",
    "            ('txt_length', TextLengthExtractor())\n",
    "        ])),\n",
    "\n",
    "        ('clf', MultiOutputClassifier(DecisionTreeClassifier()))\n",
    "    ])"
   ]
  },
  {
   "cell_type": "code",
   "execution_count": null,
   "metadata": {},
   "outputs": [],
   "source": [
    "full_pipeline.fit(X_train, y_train)"
   ]
  },
  {
   "cell_type": "code",
   "execution_count": null,
   "metadata": {},
   "outputs": [],
   "source": [
    "y_pred = full_pipeline.predict(X_test)"
   ]
  },
  {
   "cell_type": "code",
   "execution_count": null,
   "metadata": {},
   "outputs": [],
   "source": [
    "print(classification_report(y_test, y_pred, zero_division=0, target_names=y.columns))"
   ]
  },
  {
   "cell_type": "code",
   "execution_count": null,
   "metadata": {},
   "outputs": [],
   "source": [
    "parameters = {\n",
    "    'tfidf__use_idf': (True, False),\n",
    "    'clf__estimator__min_samples_split': [2, 3]\n",
    "}\n",
    "\n",
    "full_pipeline_cv = GridSearchCV(pipeline, param_grid=parameters, scoring = ['accuracy', 'f1_macro'], refit=False, verbose=True)"
   ]
  },
  {
   "cell_type": "code",
   "execution_count": null,
   "metadata": {},
   "outputs": [],
   "source": [
    "full_pipeline_cv.fit(X_train, y_train)"
   ]
  },
  {
   "cell_type": "code",
   "execution_count": null,
   "metadata": {},
   "outputs": [],
   "source": [
    "full_pipeline_cv.best_params_"
   ]
  },
  {
   "cell_type": "code",
   "execution_count": null,
   "metadata": {},
   "outputs": [],
   "source": [
    "best_estimator = full_pipeline_cv.best_estimator_\n",
    "y_pred = best_estimator.predict(X_test)"
   ]
  },
  {
   "cell_type": "code",
   "execution_count": null,
   "metadata": {},
   "outputs": [],
   "source": [
    "print(classification_report(y_test, y_pred, zero_division=0, target_names=y.columns))"
   ]
  },
  {
   "cell_type": "code",
   "execution_count": null,
   "metadata": {},
   "outputs": [],
   "source": [
    "# printing the evaluation scores\n",
    "cvres = full_pipeline_cv.cv_results_\n",
    "for mean_score, params in zip(cvres['mean_test_score'], cvres['params']):\n",
    "    print(np.sqrt(-mean_score), params)"
   ]
  },
  {
   "cell_type": "markdown",
   "metadata": {},
   "source": [
    "### 9. Export your model as a pickle file"
   ]
  },
  {
   "cell_type": "code",
   "execution_count": null,
   "metadata": {},
   "outputs": [],
   "source": [
    "import joblib\n",
    "joblib.dump(random_forest_pipeline, \"forest_reg.pkl\")\n",
    "joblib.dump(decision_tree_pipeline, \"lin_reg.pkl\")\n",
    "joblib.dump(best_estimator, \"tree_reg.pkl\")"
   ]
  },
  {
   "cell_type": "markdown",
   "metadata": {},
   "source": [
    "### 10. Use this notebook to complete `train.py`\n",
    "Use the template file attached in the Resources folder to write a script that runs the steps above to create a database and export a model based on a new dataset specified by the user."
   ]
  }
 ],
 "metadata": {
  "kernelspec": {
   "display_name": "Python 3",
   "language": "python",
   "name": "python3"
  },
  "language_info": {
   "codemirror_mode": {
    "name": "ipython",
    "version": 3
   },
   "file_extension": ".py",
   "mimetype": "text/x-python",
   "name": "python",
   "nbconvert_exporter": "python",
   "pygments_lexer": "ipython3",
   "version": "3.8.10"
  }
 },
 "nbformat": 4,
 "nbformat_minor": 2
}
